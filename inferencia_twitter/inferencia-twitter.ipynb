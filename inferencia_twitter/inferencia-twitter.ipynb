{
 "cells": [
  {
   "cell_type": "markdown",
   "metadata": {},
   "source": [
    "# Formular la pregunta"
   ]
  },
  {
   "cell_type": "markdown",
   "metadata": {},
   "source": [
    "### \"Cuál es la probabilidad que un tweet que origina dentro de los coordinados geográficos (-78.31, 0.44, -70.71, 11.39) contiene al menos una ocurrencia de la palabra 'yo' con cualquier composición de acentos y letras minúsculas y mayúsculas.\""
   ]
  },
  {
   "cell_type": "markdown",
   "metadata": {},
   "source": [
    "![](http://mediossociales.es/wp-content/uploads/2012/01/twitter_futbol12.jpg)"
   ]
  },
  {
   "cell_type": "markdown",
   "metadata": {},
   "source": [
    "# Recopilar datos"
   ]
  },
  {
   "cell_type": "code",
   "execution_count": 3,
   "metadata": {
    "collapsed": false
   },
   "outputs": [],
   "source": [
    "import os\n",
    "\n",
    "import tweepy\n",
    "from tweepy import Stream\n",
    "\n",
    "from stream_listener import FiniteStreamListener\n"
   ]
  },
  {
   "cell_type": "markdown",
   "metadata": {},
   "source": [
    "### Cargar credenciales"
   ]
  },
  {
   "cell_type": "code",
   "execution_count": 4,
   "metadata": {
    "collapsed": false
   },
   "outputs": [],
   "source": [
    "CONSUMER_KEY = \"5Fk4fZDkTGuEGLvzQ3GBe3UEE\"\n",
    "CONSUMER_SECRET = \"PudttRS8xOWzb6UqSuQKkAuQMVxG13qcdF9yOdd9NAVUkrXKta\"\n",
    "ACCESS_TOKEN = \"521880142-52Qf9raiVKFVAmUy7kv89kNCaD27aD8giA1Ungsc\"\n",
    "ACCESS_TOKEN_SECRET = \"VakaTTkNIWl6XYoRimPwRjCmRkuuGz0UWKA3pdgcddKfG\""
   ]
  },
  {
   "cell_type": "code",
   "execution_count": 27,
   "metadata": {
    "collapsed": false
   },
   "outputs": [],
   "source": [
    "COLOMBIA_GEO_LOCATION_BOUNDING_BOX = [-78.31, 0.44, -70.71, 11.39]\n",
    "NUMBER_OF_TWEETS = 100"
   ]
  },
  {
   "cell_type": "code",
   "execution_count": 6,
   "metadata": {
    "collapsed": false
   },
   "outputs": [],
   "source": [
    "auth = tweepy.OAuthHandler(CONSUMER_KEY, CONSUMER_SECRET)\n",
    "auth.set_access_token(ACCESS_TOKEN, ACCESS_TOKEN_SECRET)\n",
    "api = tweepy.API(auth)"
   ]
  },
  {
   "cell_type": "markdown",
   "metadata": {},
   "source": [
    "### Establecer una conexión al API de Twitter"
   ]
  },
  {
   "cell_type": "code",
   "execution_count": 7,
   "metadata": {
    "collapsed": false
   },
   "outputs": [],
   "source": [
    "finite_stream_listener = FiniteStreamListener(number_of_tweets=NUMBER_OF_TWEETS)\n",
    "streaming_api = Stream(auth=auth, listener=finite_stream_listener)"
   ]
  },
  {
   "cell_type": "markdown",
   "metadata": {},
   "source": [
    "### Sorber del firehouse"
   ]
  },
  {
   "cell_type": "code",
   "execution_count": 8,
   "metadata": {
    "collapsed": false
   },
   "outputs": [],
   "source": [
    "streaming_api.filter(locations=COLOMBIA_GEO_LOCATION_BOUNDING_BOX)"
   ]
  },
  {
   "cell_type": "markdown",
   "metadata": {},
   "source": [
    "# Limpiar datos"
   ]
  },
  {
   "cell_type": "code",
   "execution_count": 11,
   "metadata": {
    "collapsed": false
   },
   "outputs": [],
   "source": [
    "from unidecode import unidecode"
   ]
  },
  {
   "cell_type": "markdown",
   "metadata": {},
   "source": [
    "### Definir funciones de limpieza"
   ]
  },
  {
   "cell_type": "code",
   "execution_count": 12,
   "metadata": {
    "collapsed": true
   },
   "outputs": [],
   "source": [
    "def make_lowercase(tweet):\n",
    "    return tweet.lower()\n",
    "\n",
    "\n",
    "def remove_diacritics(tweet):\n",
    "    return unidecode(tweet)\n",
    "\n",
    "\n",
    "def remove_non_alpha_characters(tweet):\n",
    "    return ''.join(character for character in tweet if character.isalpha() or character == ' ')"
   ]
  },
  {
   "cell_type": "markdown",
   "metadata": {},
   "source": [
    "### Aplicar las funciones"
   ]
  },
  {
   "cell_type": "code",
   "execution_count": 18,
   "metadata": {
    "collapsed": false
   },
   "outputs": [
    {
     "data": {
      "text/plain": [
       "100"
      ]
     },
     "execution_count": 18,
     "metadata": {},
     "output_type": "execute_result"
    }
   ],
   "source": [
    "len(finite_stream_listener.tweets)"
   ]
  },
  {
   "cell_type": "code",
   "execution_count": 17,
   "metadata": {
    "collapsed": false
   },
   "outputs": [
    {
     "data": {
      "text/plain": [
       "['Galatas 5:22 en Parque de la 93 https://t.co/zfBrI1kjW1',\n",
       " '@LaBomba_Televen #BombaRebelde  Aran de las Casas enamoró a sus seguidoras con su cambio de look https://t.co/HdidkL69dI',\n",
       " 'Baekhyun es hermoso sin maquillaje, estan ciegos o que? @weareoneEXO #EXO',\n",
       " 'Cuidado quando brincar com alguém \\n\\nTu pode sair machucado ou morto \\n\\nhttps://t.co/bpiIiWAvNZ',\n",
       " '@abel_victor como é?',\n",
       " 'Riohacha - Hermanos Zuleta https://t.co/4aZPUbLqbX vía @YouTube // Felices 472 años a mi Riohacha mi tierra, gracias por todo 🌴🌊🏖️🌅',\n",
       " 'Es triste ver que hay gente que vota la comida, muchos desearían tener que comer.',\n",
       " 'Necesito mas tatuajes',\n",
       " 'zlmt💟',\n",
       " 'No puede uno escuchar un vallenatico porque porque se me va poniendo la garganta como a ruso un sábado al medio día.',\n",
       " 'El de el parcial 👌🏼 https://t.co/TWUVllslYz',\n",
       " '#14Sep concierto aniversario de la agrupación ExCorde!!',\n",
       " '@NoticiasCaracol @GNavasTalero LOS FAVORES DE AQUELLOS QUE TE LLEVAN AL CARGO HAY HONRARLOS Y PAGARLOS CON EL DOLOR… https://t.co/WbMQFAtm1c',\n",
       " 'Eres mi fuerza y lo que siempre me motiva.',\n",
       " 'No todo son risas!!! lauuduque  un poco de mal genio #Joaquín en Cundinamarca Madrid https://t.co/4cupsSkoV2',\n",
       " '@petrogustavo No es bueno acostumbrarse a mentir @petrogustavo. Construcción de colegio inició en gobierno de… https://t.co/uVsQJRz2KD',\n",
       " 'Fui el protagonista de tu primera historia.',\n",
       " 'Inicia conferencia \"Ser docente entre la nostalgia del pasado y la pesadumbre del presente\" a cargo Dr. Armando Zam… https://t.co/eMAjbHFuXv',\n",
       " '#14Sep | Listos los permisos para multitudinaria procesión de San Miguel Arcángel  https://t.co/pHEqESTBR4',\n",
       " 'Yo estoy destinada a morir de una arrechera, de verdad que si',\n",
       " 'Ya basta, creo que compartí más de 40 memes en 10 minutos, somebody stop me please.',\n",
       " 'Las formas de la vida #nofiltersneeded @ Shemma https://t.co/DPjHNxGaSw',\n",
       " '#PioneritosConectados apropiándose de las herramientas digitales para crear conciencia y futuro. @NicolasMaduro',\n",
       " '\"CINCO ESTRELLAS\" ⭐⭐⭐⭐⭐\\nserá el nombre de la quinta producción de Tu Grupo Favorito KVRASS… https://t.co/3O1K5LvDEF',\n",
       " '.@petrogustavo https://t.co/INMM6m9KgB',\n",
       " 'Entregamos a mandatarios locales y regionales escenarios de riesgo para que tomen medidas necesarias para enfrentar… https://t.co/Jbv51LF3rO',\n",
       " 'Quiero froot loops',\n",
       " 'Toda celebración requiere un lugar especial, ven a Hacienda Castilla @cotelcoRisarald https://t.co/U4Syv7AW7I',\n",
       " 'Eres mi fuerza y lo que siempre me motiva.💙',\n",
       " 'Ciudades inteligentes en el agro, nuestra primera conferencia en el Aula del Conocimiento de #ExpoAgrofuturo. https://t.co/LL4CefkZAA',\n",
       " '@MBDRCN #LoMáximoMBD https://t.co/kQ2WRwoDfy',\n",
       " 'Que buena soy dando consejos sin embargo suelo tomar malas desiciones (no siempre pero unas cuantas).',\n",
       " 'No se puede ser fuerte con alguien que es tu debilidad',\n",
       " '@MBDRCN #LoMáximoMBD https://t.co/cN0DtutBaR',\n",
       " '@SED_CAQUETA @USAID_Colombia',\n",
       " 'Segundo día #nexos2017 https://t.co/LiTj2mtlX3 https://t.co/UJbhefDvYs',\n",
       " 'No escuches críticas constructivas de quién no ha construido nada',\n",
       " 'QUIERO DORITOSSSSSSSSSSSSSSSS',\n",
       " 'https://t.co/mURbIHCzOI',\n",
       " '@LaTertuliaRCN @JackHousniJ Escuchado en la calle. ¨La plata del trago es sagrada¨',\n",
       " '@Daniel_MAED @Quimerica_ Ayyy',\n",
       " 'Bipolaridad: On',\n",
       " \"It's amazing how our leaders at @Dell promote our Brand from our Campaign Results - @PamAtDell 👏😀\\n#AvatureLive… https://t.co/w8hhEGVOMH\",\n",
       " '@LaMega @santiagocorreal me encantaría escuchar #ComoLoHaciaYo de @ken_y_official 😘',\n",
       " 'Oigan las locas si son bien fastidiosas',\n",
       " '#14Sep | Colombia manifiesta preocupación por presos políticos en Venezuela https://t.co/KrsRDxcFhu',\n",
       " 'Nuestra lucha x el TGT y la restauración del Torreón a punto d dar sus frutos, seguro será el mejor homenaje para… https://t.co/jjGitXaZKL',\n",
       " 'Regalitos con doble sentido! Enamoras a la persona que se lo das y ayudas a nuestros gatunos...… https://t.co/i43FHy37rl',\n",
       " 'Hay torturas psicológicas también, el hambre es una tortura, y la amenaza de perdidas en los empleos @TAMARA_SUJU',\n",
       " 'Qué desilusión con Vargas Lleras, quedó mal después de sus problemas de salud. Antes algo le creía, ahora lo veo co… https://t.co/gIaCy1xVuw',\n",
       " '@GundlapalliC ¡Gracias por compartir!',\n",
       " 'Tenemos MCO para rato carajo🇪🇸🇪🇸 https://t.co/oRkNACOaUh',\n",
       " 'Eres el principio y el fin 🎤',\n",
       " '_#TBT de cuando faltaban unos diiitas para el acto solemne 🎓🎓 16-09_… https://t.co/WyJ1QOxHzs',\n",
       " 'https://t.co/yynRM0veZs',\n",
       " 'Y yo soy la de los shows. 🙄',\n",
       " '@nadamassofia Se ve que le aprendió al exnovio: ¡ Lo hizo desaparecer !',\n",
       " 'EN CANTIDADES EXAGERADAS',\n",
       " '@Imviatori Muchas gracias, te recomiendo si puedes visitar el lugar es muy bonito',\n",
       " 'Victor Sanchez Director Nacional de Innovacion @senacyt and participants discuss objectivity and accuracy at… https://t.co/qsamHUVv5d',\n",
       " '\"A la primera persona\" cantada por Michel, siempre será bien recibida. Siempre.',\n",
       " 'Uds creen q deba comprar  \"juguitos artesanales\" sin registro sanitario ni fecha d venc. q venden x el terminal los venezolanos? si me odian',\n",
       " 'https://t.co/yO5hMCmFxI',\n",
       " 'Hoooolaaaa @soydavidrc me encanta tu compañia mil gracias #lomasvibra, claro! quiero ir al concierto @gruposiam en @TeatroABC',\n",
       " '@NTN24co Irrespeto: argüir que el avalador de un precandidato no representa a alguien. Primero se es ciudadano. Lue… https://t.co/WCSg828Puf',\n",
       " '#SigueA ➡️ @eventodaocasion\\n🎉😉\\nCelebra con ellos lo que buscas para tu #fiesta #evento #party… https://t.co/zvzY6oj0lA',\n",
       " 'El éxito no cambia a las personas, las personas deben cambiar para llegar al éxito.',\n",
       " '#14Sep | Ruiz: Situación de falta de efectivo en las calles se está “regularizando”  https://t.co/6R2xI1KAOd',\n",
       " 'Acabó de comenzar el dia putisimamente mal jajaja :)',\n",
       " '¡Demos la Bienvenida a una nueva Dreamer @x_BluxBxnny !\\n\\n¡Espero la pases genial con nosotros! https://t.co/AHKKtE4NYl',\n",
       " '@LaBomba_Televen El internauta @NewmakerQ da las mejores noticias de las Redes sociales  ¿estás en sintonía? #BombaRebelde 💣',\n",
       " '#CatatumboSustituye #Alerta @NCprensa @COCCAMColombia  @RCNCucuta @teleSURtv @PrensaRural @apa_prensa @TvSanJorge… https://t.co/PbCyTfoxZ5',\n",
       " 'No puede uno darle me gusta  alguien por qué ya lo tienen agregado',\n",
       " 'Pena capital a escorias como estas. https://t.co/3vj5kbwvXp',\n",
       " 'Cha me siento tan feliz por mi hermano, lo amo',\n",
       " '@dicomve @dicomve @BCV_ORG_VE #LiquidenSubasta15Dicom ! Hasta cuando nuestro dinero bloqueado.',\n",
       " '¡Habrase visto semejante descaro en una persona! https://t.co/kSrURRnsoZ',\n",
       " 'Q vivamos un una colombia mejor acabemos con la corrupción y tendremos un país en paz',\n",
       " '#edayco es ahora una tendencia en #Bogotã\\n\\nhttps://t.co/QOUr1dwMcA https://t.co/tVvOumrl8J',\n",
       " 'Que mala costumbre de los abogados de no contestar el teléfono',\n",
       " '#14Sep | “Plan conejo” una burla para los venezolanos https://t.co/QqeAbpT3Qu',\n",
       " 'Cornare,Corpourabá y Corantioquia, unidos en un mismo propósito,tener más familias con @BanCO2 y PSA: @GobAntioquia https://t.co/9CeTP24Ltb',\n",
       " 'Aparte de estar así, pues aprendí a instalar un programa; por medio de whtapp como la ven !!',\n",
       " '📆 Jueves 14 de Septiembre\\n📲 3003891114 | ☎ 8852516\\n🍽️ Carrera 25 No. 58A-35\\n🏘️ Barrio La Estrella https://t.co/Dl8rteT4h6',\n",
       " '¡Participen pues! #FácilConMiTarjeta https://t.co/oFmoDiobT8',\n",
       " '#InsideLR: \"En el lado venezolano la roca productora era porosa y el petróleo salió\" Francisco Lloreda @ACP_Colombia',\n",
       " '@LuisSayas Sin duda alguna Sayas',\n",
       " '@capitalistpapi Los chavistas españoles no dejan de sufrir por el iphone, y lo dicen como si todo el mundo ganara SM.',\n",
       " 'Despertar y Fluir...🍁🌼🍂🌸🍃 https://t.co/wn5GuMlGPH',\n",
       " '#Alerta Campesinos Catatumberos no descartan nuevo paro afirma presidente de ASOJUNTAS de 3 Bocas Mun. Tibú.… https://t.co/qQFGYEDHkj',\n",
       " '@dicomve @dicomve @BCV_ORG_VE #LiquidenSubasta15Dicom ! Hasta cuando nuestro dinero bloqueado.',\n",
       " '¡HAGAMOS! https://t.co/lBA3PuESRA',\n",
       " '#14Sep | Bancos sólo disponen del 60% de los billetes que requieren https://t.co/ezFnVKylsG',\n",
       " 'https://t.co/lxryCD0G5z',\n",
       " '@FNAraujoR cual ? al que lascortes le dan la razon en contra de la maldita cizaña?a muchos cuando hablan cosas inno… https://t.co/KwBgAssend',\n",
       " 'Buenos Diassssss',\n",
       " '👉#DATO. #Fluminense y @LDU_Oficial se han enfrentado en 6 ocasiones; 4 de ellos correspondientes a juegos de finales. \\n\\n@1029fmDistrito 🎙',\n",
       " '@LaBomba_Televen  los mejores chismes de la farándula!! No te despegues de las pantallas #BombaRebelde',\n",
       " 'Con mucha tranquilidad y esperanza para contribuir con nuestro prójimo y su felicidad https://t.co/HJuIU0FBj9',\n",
       " '@petrogustavo @navarrowolff @sergio_fajardo @DeLaCalleHum @JERobledo @ClaudiaLopez @IvanDuque @German_Vargas… https://t.co/Egvu8rnSlq']"
      ]
     },
     "execution_count": 17,
     "metadata": {},
     "output_type": "execute_result"
    }
   ],
   "source": [
    "finite_stream_listener.tweets"
   ]
  },
  {
   "cell_type": "code",
   "execution_count": 13,
   "metadata": {
    "collapsed": false
   },
   "outputs": [],
   "source": [
    "cleaned_tweets = list(finite_stream_listener.tweets)\n",
    "\n",
    "for cleaning_function in [make_lowercase, remove_diacritics, remove_non_alpha_characters]:\n",
    "    cleaned_tweets = [cleaning_function(tweet) for tweet in cleaned_tweets]"
   ]
  },
  {
   "cell_type": "code",
   "execution_count": 19,
   "metadata": {
    "collapsed": false
   },
   "outputs": [
    {
     "data": {
      "text/plain": [
       "['galatas  en parque de la  httpstcozfbrikjw',\n",
       " 'labombateleven bombarebelde  aran de las casas enamoro a sus seguidoras con su cambio de look httpstcohdidkldi',\n",
       " 'baekhyun es hermoso sin maquillaje estan ciegos o que weareoneexo exo',\n",
       " 'cuidado quando brincar com alguem tu pode sair machucado ou morto httpstcobpiiiwavnz',\n",
       " 'abelvictor como e',\n",
       " 'riohacha  hermanos zuleta httpstcoazpublqbx via youtube  felices  anos a mi riohacha mi tierra gracias por todo ',\n",
       " 'es triste ver que hay gente que vota la comida muchos desearian tener que comer',\n",
       " 'necesito mas tatuajes',\n",
       " 'zlmt',\n",
       " 'no puede uno escuchar un vallenatico porque porque se me va poniendo la garganta como a ruso un sabado al medio dia',\n",
       " 'el de el parcial  httpstcotwuvllslyz',\n",
       " 'sep concierto aniversario de la agrupacion excorde',\n",
       " 'noticiascaracol gnavastalero los favores de aquellos que te llevan al cargo hay honrarlos y pagarlos con el dolor httpstcowbmqfatmc',\n",
       " 'eres mi fuerza y lo que siempre me motiva',\n",
       " 'no todo son risas lauuduque  un poco de mal genio joaquin en cundinamarca madrid httpstcocupsskov',\n",
       " 'petrogustavo no es bueno acostumbrarse a mentir petrogustavo construccion de colegio inicio en gobierno de httpstcouvsqjrzkd',\n",
       " 'fui el protagonista de tu primera historia',\n",
       " 'inicia conferencia ser docente entre la nostalgia del pasado y la pesadumbre del presente a cargo dr armando zam httpstcoemajbhfuxv',\n",
       " 'sep  listos los permisos para multitudinaria procesion de san miguel arcangel  httpstcopheqestbr',\n",
       " 'yo estoy destinada a morir de una arrechera de verdad que si',\n",
       " 'ya basta creo que comparti mas de  memes en  minutos somebody stop me please',\n",
       " 'las formas de la vida nofiltersneeded  shemma httpstcodpjhnxgasw',\n",
       " 'pioneritosconectados apropiandose de las herramientas digitales para crear conciencia y futuro nicolasmaduro',\n",
       " 'cinco estrellas sera el nombre de la quinta produccion de tu grupo favorito kvrass httpstcooklvdef',\n",
       " 'petrogustavo httpstcoinmmmkgb',\n",
       " 'entregamos a mandatarios locales y regionales escenarios de riesgo para que tomen medidas necesarias para enfrentar httpstcojbvlfro',\n",
       " 'quiero froot loops',\n",
       " 'toda celebracion requiere un lugar especial ven a hacienda castilla cotelcorisarald httpstcousyvawi',\n",
       " 'eres mi fuerza y lo que siempre me motiva',\n",
       " 'ciudades inteligentes en el agro nuestra primera conferencia en el aula del conocimiento de expoagrofuturo httpstcollcefkzaa',\n",
       " 'mbdrcn lomaximombd httpstcokqwrwodfy',\n",
       " 'que buena soy dando consejos sin embargo suelo tomar malas desiciones no siempre pero unas cuantas',\n",
       " 'no se puede ser fuerte con alguien que es tu debilidad',\n",
       " 'mbdrcn lomaximombd httpstcocndtutbar',\n",
       " 'sedcaqueta usaidcolombia',\n",
       " 'segundo dia nexos httpstcolitjmtlx httpstcoujbhefdvys',\n",
       " 'no escuches criticas constructivas de quien no ha construido nada',\n",
       " 'quiero doritossssssssssssssss',\n",
       " 'httpstcomurbihczoi',\n",
       " 'latertuliarcn jackhousnij escuchado en la calle la plata del trago es sagrada',\n",
       " 'danielmaed quimerica ayyy',\n",
       " 'bipolaridad on',\n",
       " 'its amazing how our leaders at dell promote our brand from our campaign results  pamatdell avaturelive httpstcowhhegvomh',\n",
       " 'lamega santiagocorreal me encantaria escuchar comolohaciayo de kenyofficial ',\n",
       " 'oigan las locas si son bien fastidiosas',\n",
       " 'sep  colombia manifiesta preocupacion por presos politicos en venezuela httpstcokrsrdxcfhu',\n",
       " 'nuestra lucha x el tgt y la restauracion del torreon a punto d dar sus frutos seguro sera el mejor homenaje para httpstcojjgitxazkl',\n",
       " 'regalitos con doble sentido enamoras a la persona que se lo das y ayudas a nuestros gatunos httpstcoifhyrl',\n",
       " 'hay torturas psicologicas tambien el hambre es una tortura y la amenaza de perdidas en los empleos tamarasuju',\n",
       " 'que desilusion con vargas lleras quedo mal despues de sus problemas de salud antes algo le creia ahora lo veo co httpstcogiacyxvuw',\n",
       " 'gundlapallic gracias por compartir',\n",
       " 'tenemos mco para rato carajo httpstcoorknacoauh',\n",
       " 'eres el principio y el fin ',\n",
       " 'tbt de cuando faltaban unos diiitas para el acto solemne   httpstcowyjqoxhzs',\n",
       " 'httpstcoyynrmvezs',\n",
       " 'y yo soy la de los shows ',\n",
       " 'nadamassofia se ve que le aprendio al exnovio  lo hizo desaparecer ',\n",
       " 'en cantidades exageradas',\n",
       " 'imviatori muchas gracias te recomiendo si puedes visitar el lugar es muy bonito',\n",
       " 'victor sanchez director nacional de innovacion senacyt and participants discuss objectivity and accuracy at httpstcoqsamhuvvd',\n",
       " 'a la primera persona cantada por michel siempre sera bien recibida siempre',\n",
       " 'uds creen q deba comprar  juguitos artesanales sin registro sanitario ni fecha d venc q venden x el terminal los venezolanos si me odian',\n",
       " 'httpstcoyohmcmfxi',\n",
       " 'hoooolaaaa soydavidrc me encanta tu compania mil gracias lomasvibra claro quiero ir al concierto gruposiam en teatroabc',\n",
       " 'ntnco irrespeto arguir que el avalador de un precandidato no representa a alguien primero se es ciudadano lue httpstcowcsgpuf',\n",
       " 'siguea  eventodaocasioncelebra con ellos lo que buscas para tu fiesta evento party httpstcozvzyojla',\n",
       " 'el exito no cambia a las personas las personas deben cambiar para llegar al exito',\n",
       " 'sep  ruiz situacion de falta de efectivo en las calles se esta regularizando  httpstcorxikaod',\n",
       " 'acabo de comenzar el dia putisimamente mal jajaja ',\n",
       " 'demos la bienvenida a una nueva dreamer xbluxbxnny espero la pases genial con nosotros httpstcoahkktenyl',\n",
       " 'labombateleven el internauta newmakerq da las mejores noticias de las redes sociales  estas en sintonia bombarebelde ',\n",
       " 'catatumbosustituye alerta ncprensa coccamcolombia  rcncucuta telesurtv prensarural apaprensa tvsanjorge httpstcopbcytfoxz',\n",
       " 'no puede uno darle me gusta  alguien por que ya lo tienen agregado',\n",
       " 'pena capital a escorias como estas httpstcovjkbwvxp',\n",
       " 'cha me siento tan feliz por mi hermano lo amo',\n",
       " 'dicomve dicomve bcvorgve liquidensubastadicom  hasta cuando nuestro dinero bloqueado',\n",
       " 'habrase visto semejante descaro en una persona httpstcoksrurrnsoz',\n",
       " 'q vivamos un una colombia mejor acabemos con la corrupcion y tendremos un pais en paz',\n",
       " 'edayco es ahora una tendencia en bogotahttpstcoqourdwmca httpstcotvvoumrlj',\n",
       " 'que mala costumbre de los abogados de no contestar el telefono',\n",
       " 'sep  plan conejo una burla para los venezolanos httpstcoqqeabptqu',\n",
       " 'cornarecorpouraba y corantioquia unidos en un mismo propositotener mas familias con banco y psa gobantioquia httpstcocetpltb',\n",
       " 'aparte de estar asi pues aprendi a instalar un programa por medio de whtapp como la ven ',\n",
       " ' jueves  de septiembre     carrera  no a barrio la estrella httpstcodlrteth',\n",
       " 'participen pues facilconmitarjeta httpstcoofmodiobt',\n",
       " 'insidelr en el lado venezolano la roca productora era porosa y el petroleo salio francisco lloreda acpcolombia',\n",
       " 'luissayas sin duda alguna sayas',\n",
       " 'capitalistpapi los chavistas espanoles no dejan de sufrir por el iphone y lo dicen como si todo el mundo ganara sm',\n",
       " 'despertar y fluir httpstcowngumlgph',\n",
       " 'alerta campesinos catatumberos no descartan nuevo paro afirma presidente de asojuntas de  bocas mun tibu httpstcoqqfgyedhkj',\n",
       " 'dicomve dicomve bcvorgve liquidensubastadicom  hasta cuando nuestro dinero bloqueado',\n",
       " 'hagamos httpstcolbapuesra',\n",
       " 'sep  bancos solo disponen del  de los billetes que requieren httpstcoezfnvkylsg',\n",
       " 'httpstcolxrycdgz',\n",
       " 'fnaraujor cual  al que lascortes le dan la razon en contra de la maldita cizanaa muchos cuando hablan cosas inno httpstcokwbgassend',\n",
       " 'buenos diassssss',\n",
       " 'dato fluminense y lduoficial se han enfrentado en  ocasiones  de ellos correspondientes a juegos de finales fmdistrito ',\n",
       " 'labombateleven  los mejores chismes de la farandula no te despegues de las pantallas bombarebelde',\n",
       " 'con mucha tranquilidad y esperanza para contribuir con nuestro projimo y su felicidad httpstcohjuiufbj',\n",
       " 'petrogustavo navarrowolff sergiofajardo delacallehum jerobledo claudialopez ivanduque germanvargas httpstcoegvurnslq']"
      ]
     },
     "execution_count": 19,
     "metadata": {},
     "output_type": "execute_result"
    }
   ],
   "source": [
    "cleaned_tweets"
   ]
  },
  {
   "cell_type": "markdown",
   "metadata": {},
   "source": [
    "# Dormir con tus datos"
   ]
  },
  {
   "cell_type": "code",
   "execution_count": 14,
   "metadata": {
    "collapsed": true
   },
   "outputs": [],
   "source": [
    "%matplotlib inline\n",
    "\n",
    "from pprint import pprint\n",
    "import pandas as pd"
   ]
  },
  {
   "cell_type": "code",
   "execution_count": 24,
   "metadata": {
    "collapsed": true
   },
   "outputs": [],
   "source": [
    "KEYWORD = 'yo' //espacio yo espacio"
   ]
  },
  {
   "cell_type": "markdown",
   "metadata": {},
   "source": [
    "### Primeros 10 tweets"
   ]
  },
  {
   "cell_type": "code",
   "execution_count": 25,
   "metadata": {
    "collapsed": false
   },
   "outputs": [
    {
     "name": "stdout",
     "output_type": "stream",
     "text": [
      "['galatas  en parque de la  httpstcozfbrikjw',\n",
      " 'labombateleven bombarebelde  aran de las casas enamoro a sus seguidoras con '\n",
      " 'su cambio de look httpstcohdidkldi',\n",
      " 'baekhyun es hermoso sin maquillaje estan ciegos o que weareoneexo exo',\n",
      " 'cuidado quando brincar com alguem tu pode sair machucado ou morto '\n",
      " 'httpstcobpiiiwavnz',\n",
      " 'abelvictor como e',\n",
      " 'riohacha  hermanos zuleta httpstcoazpublqbx via youtube  felices  anos a mi '\n",
      " 'riohacha mi tierra gracias por todo ',\n",
      " 'es triste ver que hay gente que vota la comida muchos desearian tener que '\n",
      " 'comer',\n",
      " 'necesito mas tatuajes',\n",
      " 'zlmt',\n",
      " 'no puede uno escuchar un vallenatico porque porque se me va poniendo la '\n",
      " 'garganta como a ruso un sabado al medio dia']\n"
     ]
    }
   ],
   "source": [
    "pprint(cleaned_tweets[:10])"
   ]
  },
  {
   "cell_type": "markdown",
   "metadata": {},
   "source": [
    "### ¿Cuantas veces aparece la palabra clave?"
   ]
  },
  {
   "cell_type": "code",
   "execution_count": 1,
   "metadata": {
    "collapsed": false
   },
   "outputs": [
    {
     "ename": "NameError",
     "evalue": "name 'cleaned_tweets' is not defined",
     "output_type": "error",
     "traceback": [
      "\u001b[0;31m---------------------------------------------------------------------------\u001b[0m",
      "\u001b[0;31mNameError\u001b[0m                                 Traceback (most recent call last)",
      "\u001b[0;32m<ipython-input-1-4f3cf07fdb85>\u001b[0m in \u001b[0;36m<module>\u001b[0;34m()\u001b[0m\n\u001b[0;32m----> 1\u001b[0;31m \u001b[0mnumber_of_occurences\u001b[0m \u001b[1;33m=\u001b[0m \u001b[0msum\u001b[0m\u001b[1;33m(\u001b[0m\u001b[0mKEYWORD\u001b[0m \u001b[1;32min\u001b[0m \u001b[0mtweet\u001b[0m \u001b[1;32mfor\u001b[0m \u001b[0mtweet\u001b[0m \u001b[1;32min\u001b[0m \u001b[0mcleaned_tweets\u001b[0m\u001b[1;33m)\u001b[0m\u001b[1;33m\u001b[0m\u001b[0m\n\u001b[0m\u001b[1;32m      2\u001b[0m \u001b[0mprint\u001b[0m\u001b[1;33m(\u001b[0m\u001b[1;34m'Nuestra palabra clave aparece esta cantidad de {} veces'\u001b[0m\u001b[1;33m.\u001b[0m\u001b[0mformat\u001b[0m\u001b[1;33m(\u001b[0m\u001b[0mnumber_of_occurences\u001b[0m\u001b[1;33m)\u001b[0m\u001b[1;33m)\u001b[0m\u001b[1;33m\u001b[0m\u001b[0m\n",
      "\u001b[0;31mNameError\u001b[0m: name 'cleaned_tweets' is not defined"
     ]
    }
   ],
   "source": [
    "number_of_occurences = sum(KEYWORD in tweet for tweet in cleaned_tweets)\n",
    "print('Nuestra palabra clave aparece esta cantidad de {} veces'.format(number_of_occurences))"
   ]
  },
  {
   "cell_type": "markdown",
   "metadata": {},
   "source": [
    "### ¿Con cual frecuencia apareció?"
   ]
  },
  {
   "cell_type": "code",
   "execution_count": 28,
   "metadata": {
    "collapsed": false
   },
   "outputs": [
    {
     "name": "stdout",
     "output_type": "stream",
     "text": [
      "Nuestra palabra clave apareció en: 6.0% de los tweets\n"
     ]
    }
   ],
   "source": [
    "print('Nuestra palabra clave apareció en: {}% de los tweets'.format(100 * number_of_occurences/NUMBER_OF_TWEETS))"
   ]
  },
  {
   "cell_type": "markdown",
   "metadata": {},
   "source": [
    "### ¿Cómo son los tweets que la contienen?"
   ]
  },
  {
   "cell_type": "code",
   "execution_count": 29,
   "metadata": {
    "collapsed": false
   },
   "outputs": [
    {
     "name": "stdout",
     "output_type": "stream",
     "text": [
      "['riohacha  hermanos zuleta httpstcoazpublqbx via youtube  felices  anos a mi '\n",
      " 'riohacha mi tierra gracias por todo ',\n",
      " 'yo estoy destinada a morir de una arrechera de verdad que si',\n",
      " 'lamega santiagocorreal me encantaria escuchar comolohaciayo de kenyofficial ',\n",
      " 'y yo soy la de los shows ',\n",
      " 'httpstcoyohmcmfxi',\n",
      " 'siguea  eventodaocasioncelebra con ellos lo que buscas para tu fiesta evento '\n",
      " 'party httpstcozvzyojla']\n"
     ]
    }
   ],
   "source": [
    "pprint([tweet for tweet in cleaned_tweets if KEYWORD in tweet])"
   ]
  },
  {
   "cell_type": "markdown",
   "metadata": {},
   "source": [
    "### ¿Cuál es la distancia promedia entre ocurrencias consecutivas?"
   ]
  },
  {
   "cell_type": "code",
   "execution_count": 30,
   "metadata": {
    "collapsed": false
   },
   "outputs": [],
   "source": [
    "indices_of_tweets_containing_keyword = [index for index, tweet in enumerate(cleaned_tweets) if KEYWORD in tweet]"
   ]
  },
  {
   "cell_type": "code",
   "execution_count": 31,
   "metadata": {
    "collapsed": false
   },
   "outputs": [
    {
     "data": {
      "text/plain": [
       "[5, 19, 43, 55, 62, 65]"
      ]
     },
     "execution_count": 31,
     "metadata": {},
     "output_type": "execute_result"
    }
   ],
   "source": [
    "indices_of_tweets_containing_keyword"
   ]
  },
  {
   "cell_type": "code",
   "execution_count": 32,
   "metadata": {
    "collapsed": true
   },
   "outputs": [],
   "source": [
    "distances_between_indices_of_tweets_containing_keyword = [\n",
    "    second_index - first_index for first_index, second_index in \\\n",
    "        zip(indices_of_tweets_containing_keyword[:-1], indices_of_tweets_containing_keyword[1:])\n",
    "]"
   ]
  },
  {
   "cell_type": "code",
   "execution_count": 33,
   "metadata": {
    "collapsed": false
   },
   "outputs": [
    {
     "data": {
      "text/plain": [
       "[14, 24, 12, 7, 3]"
      ]
     },
     "execution_count": 33,
     "metadata": {},
     "output_type": "execute_result"
    }
   ],
   "source": [
    "distances_between_indices_of_tweets_containing_keyword"
   ]
  },
  {
   "cell_type": "code",
   "execution_count": 34,
   "metadata": {
    "collapsed": false
   },
   "outputs": [
    {
     "data": {
      "text/plain": [
       "<matplotlib.axes._subplots.AxesSubplot at 0x648a8b2630>"
      ]
     },
     "execution_count": 34,
     "metadata": {},
     "output_type": "execute_result"
    },
    {
     "data": {
      "image/png": "[encoded data removed]",
      "text/plain": [
       "<matplotlib.figure.Figure at 0x648a88aa90>"
      ]
     },
     "metadata": {},
     "output_type": "display_data"
    }
   ],
   "source": [
    "pd.Series(distances_between_indices_of_tweets_containing_keyword).hist()"
   ]
  },
  {
   "cell_type": "code",
   "execution_count": null,
   "metadata": {
    "collapsed": true
   },
   "outputs": [],
   "source": []
  },
  {
   "cell_type": "markdown",
   "metadata": {},
   "source": [
    "# Construir un modelo"
   ]
  },
  {
   "cell_type": "code",
   "execution_count": 35,
   "metadata": {
    "collapsed": true
   },
   "outputs": [],
   "source": [
    "import matplotlib.pyplot as plt\n",
    "import numpy as np\n",
    "from scipy.stats import beta as beta_distribution"
   ]
  },
  {
   "cell_type": "markdown",
   "metadata": {},
   "source": [
    "### Definir los parámetros de un Beta Distribution"
   ]
  },
  {
   "cell_type": "code",
   "execution_count": 36,
   "metadata": {
    "collapsed": false
   },
   "outputs": [],
   "source": [
    "alpha = 1 + number_of_occurences\n",
    "beta = 1 + (NUMBER_OF_TWEETS - number_of_occurences)\n",
    "\n",
    "x_values = np.linspace(0, 1, 1002)[1:-1]\n",
    "pdf_y_values = beta_distribution(alpha, beta).pdf(x_values)\n",
    "cdf_y_values = np.cumsum(pdf_y_values) / np.sum(pdf_y_values)"
   ]
  },
  {
   "cell_type": "markdown",
   "metadata": {},
   "source": [
    "### Visualizar"
   ]
  },
  {
   "cell_type": "markdown",
   "metadata": {},
   "source": [
    "![](http://i.imgur.com/mj059cS.png)"
   ]
  },
  {
   "cell_type": "code",
   "execution_count": 37,
   "metadata": {
    "collapsed": false,
    "scrolled": false
   },
   "outputs": [
    {
     "data": {
      "image/png": "[encoded data removed]",
      "text/plain": [
       "<matplotlib.figure.Figure at 0x648b4e42e8>"
      ]
     },
     "metadata": {},
     "output_type": "display_data"
    }
   ],
   "source": [
    "plt.figure(figsize=(18, 6))\n",
    "\n",
    "# PDF\n",
    "plt.subplot(121)\n",
    "\n",
    "plt.plot(x_values, pdf_y_values, label=(r'$\\alpha=%.1f,\\ \\beta=%.1f$' % (alpha, beta)))\n",
    "\n",
    "plt.xlim(0, 1)\n",
    "plt.xlabel('Probability of tweet containing keyword')\n",
    "plt.ylabel('Probability density')\n",
    "plt.title('Beta Distribution PDF')\n",
    "plt.legend(loc=1)\n",
    "\n",
    "\n",
    "# CDF\n",
    "plt.subplot(122)\n",
    "\n",
    "plt.plot(x_values, cdf_y_values)\n",
    "\n",
    "plt.xlim(0, 1)\n",
    "plt.ylim(0, 1.005)\n",
    "plt.yticks(np.linspace(0, 1, 21))\n",
    "plt.xlabel('Probability of tweet containing keyword')\n",
    "plt.ylabel('Cumulative probability')\n",
    "plt.title('Beta Distribution CDF')\n",
    "\n",
    "plt.show()"
   ]
  },
  {
   "cell_type": "markdown",
   "metadata": {},
   "source": [
    "# Comunicar resultados"
   ]
  },
  {
   "cell_type": "markdown",
   "metadata": {},
   "source": [
    "### Con 90% de certeza, digamos que la verdadera probabilidad:"
   ]
  },
  {
   "cell_type": "code",
   "execution_count": 38,
   "metadata": {
    "collapsed": false
   },
   "outputs": [],
   "source": [
    "fifth_percentile = max(\n",
    "    [x_value for x_value, y_value in zip(x_values, cdf_y_values) if y_value <= .05]\n",
    ")\n",
    "\n",
    "ninety_fifth_percentile = max(\n",
    "    [x_value for x_value, y_value in zip(x_values, cdf_y_values) if y_value <= .95]\n",
    ")"
   ]
  },
  {
   "cell_type": "code",
   "execution_count": 39,
   "metadata": {
    "collapsed": false
   },
   "outputs": [
    {
     "name": "stdout",
     "output_type": "stream",
     "text": [
      "Con 90% de certeza digamos que la verdadera probabilidad se encuentra entre: 0.032 y 0.1129\n"
     ]
    }
   ],
   "source": [
    "print('Con 90% de certeza digamos que la verdadera probabilidad se encuentra entre: {} y {}'.format(\n",
    "    round(fifth_percentile, 4), round(ninety_fifth_percentile, 4)))"
   ]
  },
  {
   "cell_type": "markdown",
   "metadata": {},
   "source": [
    "### La probabilidad que la verdadera probabilidad (de que un tweet contiene nuesta palabra clave) sea más grande de .1:"
   ]
  },
  {
   "cell_type": "code",
   "execution_count": 40,
   "metadata": {
    "collapsed": true
   },
   "outputs": [],
   "source": [
    "def compute_total_probability_that_probability_less_than_p(p):\n",
    "    return max(cumulative_prob for cumulative_prob, x_value in zip(cdf_y_values, x_values) if x_value < p)"
   ]
  },
  {
   "cell_type": "code",
   "execution_count": 41,
   "metadata": {
    "collapsed": false
   },
   "outputs": [
    {
     "name": "stdout",
     "output_type": "stream",
     "text": [
      "La probabilidad que la verdadera probabilidad es > .1 es: 0.10880344340455528\n"
     ]
    }
   ],
   "source": [
    "print('La probabilidad que la verdadera probabilidad es > .1 es: {}'.format(\n",
    "    1 - compute_total_probability_that_probability_less_than_p(.1))\n",
    ")"
   ]
  },
  {
   "cell_type": "code",
   "execution_count": null,
   "metadata": {
    "collapsed": true
   },
   "outputs": [],
   "source": []
  }
 ],
 "metadata": {
  "kernelspec": {
   "display_name": "Python 3",
   "language": "python",
   "name": "python3"
  },
  "language_info": {
   "codemirror_mode": {
    "name": "ipython",
    "version": 3
   },
   "file_extension": ".py",
   "mimetype": "text/x-python",
   "name": "python",
   "nbconvert_exporter": "python",
   "pygments_lexer": "ipython3",
   "version": "3.6.0"
  }
 },
 "nbformat": 4,
 "nbformat_minor": 0
}
