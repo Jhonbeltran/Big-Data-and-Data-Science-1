{
 "cells": [
  {
   "cell_type": "markdown",
   "metadata": {},
   "source": [
    "# Pokemon Exploration"
   ]
  },
  {
   "cell_type": "code",
   "execution_count": 1,
   "metadata": {
    "collapsed": false
   },
   "outputs": [
    {
     "name": "stdout",
     "output_type": "stream",
     "text": [
      " El volumen de la unidad C no tiene etiqueta.\n",
      " El n£mero de serie del volumen es: 960F-E9B5\n",
      "\n",
      " Directorio de C:\\Users\\Beatsaudio\\Desktop\\Big Data and Data Science\\Pokemon\n",
      "\n",
      "10/09/2017  06:27 p. m.    <DIR>          .\n",
      "10/09/2017  06:27 p. m.    <DIR>          ..\n",
      "10/09/2017  06:27 p. m.    <DIR>          .ipynb_checkpoints\n",
      "10/09/2017  06:27 p. m.                72 Untitled.ipynb\n",
      "               1 archivos             72 bytes\n",
      "               3 dirs  268.444.082.176 bytes libres\n"
     ]
    }
   ],
   "source": [
    "!dir"
   ]
  },
  {
   "cell_type": "code",
   "execution_count": null,
   "metadata": {
    "collapsed": false
   },
   "outputs": [],
   "source": []
  },
  {
   "cell_type": "code",
   "execution_count": null,
   "metadata": {
    "collapsed": true
   },
   "outputs": [],
   "source": []
  }
 ],
 "metadata": {
  "kernelspec": {
   "display_name": "Python 3",
   "language": "python",
   "name": "python3"
  },
  "language_info": {
   "codemirror_mode": {
    "name": "ipython",
    "version": 3
   },
   "file_extension": ".py",
   "mimetype": "text/x-python",
   "name": "python",
   "nbconvert_exporter": "python",
   "pygments_lexer": "ipython3",
   "version": "3.6.0"
  }
 },
 "nbformat": 4,
 "nbformat_minor": 2
}
